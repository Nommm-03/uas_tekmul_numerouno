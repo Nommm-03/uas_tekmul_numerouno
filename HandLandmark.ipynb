{
 "cells": [
  {
   "cell_type": "markdown",
   "id": "2befc49e",
   "metadata": {},
   "source": [
    "## INTERACTIVE MATHS\n",
    "- Tubes NumeroUno"
   ]
  },
  {
   "cell_type": "markdown",
   "id": "33c58532",
   "metadata": {},
   "source": [
    "**Import Library Yang Digunakan**"
   ]
  },
  {
   "cell_type": "code",
   "execution_count": 1,
   "id": "2c732818",
   "metadata": {},
   "outputs": [],
   "source": [
    "import numpy as np\n",
    "import matplotlib.pyplot as plt\n",
    "import cv2\n",
    "import os\n",
    "import mediapipe as mp"
   ]
  },
  {
   "cell_type": "markdown",
   "id": "929bec96",
   "metadata": {},
   "source": [
    "**Inisialisasi Hand Landmarks**"
   ]
  },
  {
   "cell_type": "code",
   "execution_count": 2,
   "id": "3c84cfd1",
   "metadata": {},
   "outputs": [],
   "source": [
    "# Inisialisasi MediaPipe Hands\n",
    "mp_hands = mp.solutions.hands\n",
    "hands = mp_hands.Hands(static_image_mode=True, max_num_hands=3, min_detection_confidence=0.7)\n",
    "mp_drawing = mp.solutions.drawing_utils\n",
    "mp_drawing_styles = mp.solutions.drawing_styles"
   ]
  },
  {
   "cell_type": "markdown",
   "id": "bb33bb58",
   "metadata": {},
   "source": [
    "**Webcam**"
   ]
  },
  {
   "cell_type": "code",
   "execution_count": 3,
   "id": "184b2c12",
   "metadata": {},
   "outputs": [],
   "source": [
    "# Test Webcam\n",
    "cap = cv2.VideoCapture(0)\n",
    "if not cap.isOpened():\n",
    "\t\tprint(\"Error: Could not open webcam.\")\n",
    "\t\texit()\n",
    "\n",
    "while cap.isOpened():\n",
    "\t\tret, frame = cap.read()\n",
    "\t\tif not ret:\n",
    "\t\t\t\tprint(\"Error: Could not read frame.\")\n",
    "\t\t\t\tbreak\n",
    "\t\t\n",
    "\t\t# Konversi BGR ke RGB\n",
    "\t\tframe_rgb = cv2.cvtColor(frame, cv2.COLOR_BGR2RGB)\n",
    "\n",
    "\t\t# Deteksi tangan\n",
    "\t\tresults = hands.process(frame_rgb)\n",
    "\t\tif results.multi_hand_landmarks:\n",
    "\t\t\t\tfor hand_landmarks in results.multi_hand_landmarks:\n",
    "\t\t\t\t\t\tmp_drawing.draw_landmarks(\n",
    "\t\t\t\t\t\t\t\tframe,\n",
    "\t\t\t\t\t\t\t\thand_landmarks,\n",
    "\t\t\t\t\t\t\t\tmp_hands.HAND_CONNECTIONS,\n",
    "\t\t\t\t\t\t\t\tmp_drawing_styles.get_default_hand_landmarks_style(),\n",
    "\t\t\t\t\t\t\t\tmp_drawing_styles.get_default_hand_connections_style())\n",
    "\n",
    "\t\t# Tampilkan frame dengan deteksi tangan\n",
    "\t\tcv2.imshow('Webcam', frame)\n",
    "\n",
    "\t\tif cv2.waitKey(1) & 0xFF == ord('q'):\n",
    "\t\t\t\tbreak\n",
    "\n",
    "cap.release()\n",
    "cv2.destroyAllWindows()\n"
   ]
  },
  {
   "cell_type": "markdown",
   "id": "0486cd4a",
   "metadata": {},
   "source": [
    "**Deteksi Jari**"
   ]
  },
  {
   "cell_type": "code",
   "execution_count": 4,
   "id": "9670411e",
   "metadata": {},
   "outputs": [],
   "source": [
    "# Daftar Indeks Landmark Tangan (1-10)\n",
    "JEMPOL = [1, 2, 3, 4]  # Jari Jempol\n",
    "TELUNJUK = [5, 6, 7, 8]  # Jari Telunjuk\n",
    "JARI_TENGAH = [9, 10, 11, 12]  # Jari Tengah\n",
    "JARI_MANIS = [13, 14, 15, 16]  # Jari Manis\n",
    "JARI_KELINGKING = [17, 18, 19, 20]  # Jari Kelingking"
   ]
  },
  {
   "cell_type": "markdown",
   "id": "6528eb34",
   "metadata": {},
   "source": [
    "**Deteksi Tangan Kiri atau Kanan**"
   ]
  },
  {
   "cell_type": "code",
   "execution_count": 5,
   "id": "ccf0e816",
   "metadata": {
    "vscode": {
     "languageId": "ruby"
    }
   },
   "outputs": [],
   "source": [
    "def detect_finger_number(hand_landmarks, handedness):\n",
    "\tfingers = []\n",
    "\t\n",
    "\t# Thumb detection - different logic for left and right hands\n",
    "\tthumb_tip = hand_landmarks.landmark[JEMPOL[-1]]\n",
    "\tthumb_base = hand_landmarks.landmark[JEMPOL[0]]\n",
    "\tfinger_offset = 0.06 \n",
    "\tif handedness == 'Right':\n",
    "\t\tfingers.append(thumb_tip.x < (thumb_base.x - finger_offset))\n",
    "\telse:\n",
    "\t\tfingers.append(thumb_tip.x > (thumb_base.x + finger_offset))\n",
    "\t\n",
    "\t# Other fingers\n",
    "\tfinger_lists = [TELUNJUK, JARI_TENGAH, JARI_MANIS, JARI_KELINGKING]\n",
    "\t\n",
    "\tfor finger in finger_lists:\n",
    "\t\ttip = hand_landmarks.landmark[finger[-1]]\n",
    "\t\tbase = hand_landmarks.landmark[finger[0]]\n",
    "\t\tfingers.append(tip.y < (base.y - finger_offset))\n",
    "\t\n",
    "\treturn sum(fingers)\n",
    "\n",
    "# Modify webcam loop\n",
    "cap = cv2.VideoCapture(0)\n",
    "\n",
    "while cap.isOpened():\n",
    "\tret, frame = cap.read()\n",
    "\tif not ret:\n",
    "\t\tprint(\"Error: Could not read frame.\")\n",
    "\t\tbreak\n",
    "\t\n",
    "\tframe = cv2.flip(frame, 1)\n",
    "\tframe_rgb = cv2.cvtColor(frame, cv2.COLOR_BGR2RGB)\n",
    "\t\n",
    "\tresults = hands.process(frame_rgb)\n",
    "\n",
    "\tif results.multi_hand_landmarks:\n",
    "\t\ttotal_fingers = 0\n",
    "\t\tfor idx, hand_landmarks in enumerate(results.multi_hand_landmarks):\n",
    "\t\t\thandedness = results.multi_handedness[idx].classification[0].label\n",
    "\t\t\tcount = detect_finger_number(hand_landmarks, handedness)\n",
    "\t\t\ttotal_fingers += count\n",
    "\t\t\t\n",
    "\t\t\tmp_drawing.draw_landmarks(\n",
    "\t\t\t\tframe,\n",
    "\t\t\t\thand_landmarks,\n",
    "\t\t\t\tmp_hands.HAND_CONNECTIONS,\n",
    "\t\t\t\tmp_drawing_styles.get_default_hand_landmarks_style(),\n",
    "\t\t\t\tmp_drawing_styles.get_default_hand_connections_style()\n",
    "\t\t\t)\n",
    "\t\t\n",
    "\t\t# Limit total detected fingers between 0-10\n",
    "\t\ttotal_fingers = min(10, total_fingers)\n",
    "\t\t\n",
    "\t\t# Display the total finger count\n",
    "\t\tcv2.putText(\n",
    "\t\t\tframe, \n",
    "\t\t\tstr(total_fingers), \n",
    "\t\t\t(50, 150), \n",
    "\t\t\tcv2.FONT_HERSHEY_SIMPLEX, \n",
    "\t\t\t4,\n",
    "\t\t\t(0, 255, 0),\n",
    "\t\t\t4\n",
    "\t\t)\n",
    "\t\n",
    "\tcv2.imshow('Hand Number Detection', frame)\n",
    "\t\n",
    "\tif cv2.waitKey(1) & 0xFF == ord('q'):\n",
    "\t\tbreak\n",
    "\n",
    "cap.release()\n",
    "cv2.destroyAllWindows()\n"
   ]
  }
 ],
 "metadata": {
  "kernelspec": {
   "display_name": "tubes",
   "language": "python",
   "name": "python3"
  },
  "language_info": {
   "codemirror_mode": {
    "name": "ipython",
    "version": 3
   },
   "file_extension": ".py",
   "mimetype": "text/x-python",
   "name": "python",
   "nbconvert_exporter": "python",
   "pygments_lexer": "ipython3",
   "version": "3.10.16"
  }
 },
 "nbformat": 4,
 "nbformat_minor": 5
}
