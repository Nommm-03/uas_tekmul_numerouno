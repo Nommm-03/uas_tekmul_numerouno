{
 "cells": [
  {
   "cell_type": "markdown",
   "id": "2befc49e",
   "metadata": {},
   "source": [
    "## INTERACTIVE MATHS\n",
    "- Tubes NumeroUno"
   ]
  },
  {
   "cell_type": "markdown",
   "id": "33c58532",
   "metadata": {},
   "source": [
    "**Import Library Yang Digunakan**"
   ]
  },
  {
   "cell_type": "code",
   "execution_count": 1,
   "id": "2c732818",
   "metadata": {},
   "outputs": [],
   "source": [
    "import numpy as np\n",
    "import matplotlib.pyplot as plt\n",
    "import cv2\n",
    "import os\n",
    "import mediapipe as mp"
   ]
  },
  {
   "cell_type": "markdown",
   "id": "929bec96",
   "metadata": {},
   "source": [
    "**Inisialisasi Hand Landmarks**"
   ]
  },
  {
   "cell_type": "code",
   "execution_count": 2,
   "id": "3c84cfd1",
   "metadata": {},
   "outputs": [],
   "source": [
    "# Inisialisasi MediaPipe Hands\n",
    "mp_hands = mp.solutions.hands\n",
    "hands = mp_hands.Hands(static_image_mode=True, max_num_hands=3, min_detection_confidence=0.7)\n",
    "mp_drawing = mp.solutions.drawing_utils\n",
    "mp_drawing_styles = mp.solutions.drawing_styles"
   ]
  },
  {
   "cell_type": "markdown",
   "id": "bb33bb58",
   "metadata": {},
   "source": [
    "**Webcam**"
   ]
  },
  {
   "cell_type": "code",
   "execution_count": 4,
   "id": "184b2c12",
   "metadata": {},
   "outputs": [],
   "source": [
    "# Test Webcam\n",
    "cap = cv2.VideoCapture(0)\n",
    "if not cap.isOpened():\n",
    "\t\tprint(\"Error: Could not open webcam.\")\n",
    "\t\texit()\n",
    "\n",
    "while cap.isOpened():\n",
    "\t\tret, frame = cap.read()\n",
    "\t\tif not ret:\n",
    "\t\t\t\tprint(\"Error: Could not read frame.\")\n",
    "\t\t\t\tbreak\n",
    "\t\t\n",
    "\t\t# Konversi BGR ke RGB\n",
    "\t\tframe_rgb = cv2.cvtColor(frame, cv2.COLOR_BGR2RGB)\n",
    "\n",
    "\t\t# Deteksi tangan\n",
    "\t\tresults = hands.process(frame_rgb)\n",
    "\t\tif results.multi_hand_landmarks:\n",
    "\t\t\t\tfor hand_landmarks in results.multi_hand_landmarks:\n",
    "\t\t\t\t\t\tmp_drawing.draw_landmarks(\n",
    "\t\t\t\t\t\t\t\tframe,\n",
    "\t\t\t\t\t\t\t\thand_landmarks,\n",
    "\t\t\t\t\t\t\t\tmp_hands.HAND_CONNECTIONS,\n",
    "\t\t\t\t\t\t\t\tmp_drawing_styles.get_default_hand_landmarks_style(),\n",
    "\t\t\t\t\t\t\t\tmp_drawing_styles.get_default_hand_connections_style())\n",
    "\n",
    "\t\t# Tampilkan frame dengan deteksi tangan\n",
    "\t\tcv2.imshow('Webcam', frame)\n",
    "\n",
    "\t\tif cv2.waitKey(1) & 0xFF == ord('q'):\n",
    "\t\t\t\tbreak\n",
    "\n",
    "cap.release()\n",
    "cv2.destroyAllWindows()\n"
   ]
  },
  {
   "cell_type": "markdown",
   "id": "0486cd4a",
   "metadata": {},
   "source": [
    "**Logika 1-10**"
   ]
  },
  {
   "cell_type": "code",
   "execution_count": null,
   "id": "9670411e",
   "metadata": {},
   "outputs": [],
   "source": [
    "# Daftar Indeks Landmark Tangan (1-10)\n",
    "1 = [0, 1, 2, 3, 4]  # Jari Telunjuk\n",
    "2 = [5, 6, 7, 8, 9]  # Jari Tengah\n",
    "3 = [10, 11, 12, 13, 14]  # Jari Manis"
   ]
  }
 ],
 "metadata": {
  "kernelspec": {
   "display_name": "tubes",
   "language": "python",
   "name": "python3"
  },
  "language_info": {
   "codemirror_mode": {
    "name": "ipython",
    "version": 3
   },
   "file_extension": ".py",
   "mimetype": "text/x-python",
   "name": "python",
   "nbconvert_exporter": "python",
   "pygments_lexer": "ipython3",
   "version": "3.10.11"
  }
 },
 "nbformat": 4,
 "nbformat_minor": 5
}
