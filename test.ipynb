{
 "cells": [
  {
   "cell_type": "markdown",
   "id": "2befc49e",
   "metadata": {},
   "source": [
    "## INTERACTIVE MATHS\n",
    "- Tubes NumeroUno (Belum fix)"
   ]
  },
  {
   "cell_type": "markdown",
   "id": "33c58532",
   "metadata": {},
   "source": [
    "**Import Library Yang Digunakan**"
   ]
  },
  {
   "cell_type": "code",
   "execution_count": 1,
   "id": "2c732818",
   "metadata": {},
   "outputs": [],
   "source": [
    "import numpy as np\n",
    "import matplotlib.pyplot as plt\n",
    "import cv2\n",
    "import os\n",
    "import mediapipe as mp"
   ]
  },
  {
   "cell_type": "markdown",
   "id": "929bec96",
   "metadata": {},
   "source": [
    "**Inisialisasi Hand Landmarks**"
   ]
  },
  {
   "cell_type": "code",
   "execution_count": 2,
   "id": "3c84cfd1",
   "metadata": {},
   "outputs": [],
   "source": [
    "# Inisialisasi MediaPipe Hands\n",
    "mp_hands = mp.solutions.hands\n",
    "hands = mp_hands.Hands(static_image_mode=True, max_num_hands=3, min_detection_confidence=0.7)\n",
    "mp_drawing = mp.solutions.drawing_utils\n",
    "mp_drawing_styles = mp.solutions.drawing_styles"
   ]
  },
  {
   "cell_type": "markdown",
   "id": "bb33bb58",
   "metadata": {},
   "source": [
    "**Webcam**"
   ]
  },
  {
   "cell_type": "code",
   "execution_count": 3,
   "id": "184b2c12",
   "metadata": {},
   "outputs": [],
   "source": [
    "# Test Webcam\n",
    "cap = cv2.VideoCapture(0)\n",
    "if not cap.isOpened():\n",
    "\t\tprint(\"Error: Could not open webcam.\")\n",
    "\t\texit()\n",
    "\n",
    "while cap.isOpened():\n",
    "\t\tret, frame = cap.read()\n",
    "\t\tif not ret:\n",
    "\t\t\t\tprint(\"Error: Could not read frame.\")\n",
    "\t\t\t\tbreak\n",
    "\t\t\n",
    "\t\t# Konversi BGR ke RGB\n",
    "\t\tframe_rgb = cv2.cvtColor(frame, cv2.COLOR_BGR2RGB)\n",
    "\n",
    "\t\t# Deteksi tangan\n",
    "\t\tresults = hands.process(frame_rgb)\n",
    "\t\tif results.multi_hand_landmarks:\n",
    "\t\t\t\tfor hand_landmarks in results.multi_hand_landmarks:\n",
    "\t\t\t\t\t\tmp_drawing.draw_landmarks(\n",
    "\t\t\t\t\t\t\t\tframe,\n",
    "\t\t\t\t\t\t\t\thand_landmarks,\n",
    "\t\t\t\t\t\t\t\tmp_hands.HAND_CONNECTIONS,\n",
    "\t\t\t\t\t\t\t\tmp_drawing_styles.get_default_hand_landmarks_style(),\n",
    "\t\t\t\t\t\t\t\tmp_drawing_styles.get_default_hand_connections_style())\n",
    "\n",
    "\t\t# Tampilkan frame dengan deteksi tangan\n",
    "\t\tcv2.imshow('Webcam', frame)\n",
    "\n",
    "\t\tif cv2.waitKey(1) & 0xFF == ord('q'):\n",
    "\t\t\t\tbreak\n",
    "\n",
    "cap.release()\n",
    "cv2.destroyAllWindows()\n"
   ]
  },
  {
   "cell_type": "markdown",
   "id": "0486cd4a",
   "metadata": {},
   "source": [
    "**Deteksi Jari**"
   ]
  },
  {
   "cell_type": "code",
   "execution_count": 6,
   "id": "9670411e",
   "metadata": {},
   "outputs": [],
   "source": [
    "# Daftar Indeks Landmark Tangan (1-10)\n",
    "JEMPOL = [1, 2, 3, 4]  # Jari Jempol\n",
    "TELUNJUK = [5, 6, 7, 8]  # Jari Telunjuk\n",
    "JARI_TENGAH = [9, 10, 11, 12]  # Jari Tengah\n",
    "JARI_MANIS = [13, 14, 15, 16]  # Jari Manis\n",
    "JARI_KELINGKING = [17, 18, 19, 20]  # Jari Kelingking"
   ]
  },
  {
   "cell_type": "markdown",
   "id": "6528eb34",
   "metadata": {},
   "source": [
    "**Deteksi Tangan Kiri atau Kanan**"
   ]
  },
  {
   "cell_type": "code",
   "execution_count": 7,
   "id": "ccf0e816",
   "metadata": {
    "vscode": {
     "languageId": "ruby"
    }
   },
   "outputs": [
    {
     "ename": "IndentationError",
     "evalue": "expected an indented block after 'if' statement on line 45 (1974082071.py, line 48)",
     "output_type": "error",
     "traceback": [
      "\u001b[1;36m  Cell \u001b[1;32mIn[7], line 48\u001b[1;36m\u001b[0m\n\u001b[1;33m    for finger in fingers:\u001b[0m\n\u001b[1;37m    ^\u001b[0m\n\u001b[1;31mIndentationError\u001b[0m\u001b[1;31m:\u001b[0m expected an indented block after 'if' statement on line 45\n"
     ]
    }
   ],
   "source": [
    "def detect_finger_number(hand_landmarks, handedness):\n",
    "\tfingers = []\n",
    "\tresults = 0\n",
    "\n",
    "\t# Ibu jari\n",
    "\tthumb_tip = hand_landmarks.landmark[JEMPOL[-1]]\n",
    "\tthumb_base = hand_landmarks.landmark[JEMPOL[0]]\n",
    "\tif thumb_tip.y < thumb_base.y:\n",
    "\t\tthumb_open = True\n",
    "\telse:\n",
    "\t\tthumb_open = False\n",
    "\t\n",
    "\t# Telunjuk\n",
    "\tindex_tip = hand_landmarks.landmark[TELUNJUK[-1]]\n",
    "\tindex_base = hand_landmarks.landmark[TELUNJUK[0]]\n",
    "\tif index_tip.y < index_base.y:\n",
    "\t\tindex_open = True\n",
    "\telse:\n",
    "\t\tindex_open = False\n",
    "\t\n",
    "\t# Jari-jari lainnya\n",
    "\tmiddle_tip = hand_landmarks.landmark[TENGAH[-1]]\n",
    "\tmiddle_base = hand_landmarks.landmark[TENGAH[0]]\n",
    "\tif middle_tip.y < middle_base.y:\n",
    "\t\tmiddle_open = True\n",
    "\telse:\n",
    "\t\tmiddle_open = False\n",
    "\t\n",
    "\tring_tip = hand_landmarks.landmark(KECIL[-1])\n",
    "\tring_base = hand_landmarks.landmark(KECIL[0])\n",
    "\tif ring_tip.y < ring_base.y:\n",
    "\t\tring_open = True\n",
    "\telse:\n",
    "\t\tring_open = False\n",
    "\t\n",
    "\tlittle_tip = hand_landmarks.landmark(KELINGKING[-1])\n",
    "\tlittle_base = hand_landmarks.landmark(KELINGKING[0])\n",
    "\tif little_tip.y < little_base.y:\n",
    "\t\tlittle_open = True\n",
    "\telse:\n",
    "\t\tlittle_open = False\n",
    "\t\n",
    "\t# Hitung jari yang terbuka\n",
    "\tif 2 <= len(handedness) < 3:\n",
    "\t\tif thumb_open :\n",
    "\n",
    "\t# Hitung total jari yang terbuka\n",
    "\tfor finger in fingers:\n",
    "\t\tif finger:\n",
    "\t\t\tresults += 1\n",
    "\n",
    "\t# Kembalikan jumlah jari yang terbuka\n",
    "\t\n",
    "\treturn sum(fingers)\n",
    "\n",
    "# Modifikasi loop webcam\n",
    "cap = cv2.VideoCapture(0)\n",
    "\n",
    "while cap.isOpened():\n",
    "\tret, frame = cap.read()\n",
    "\tif not ret:\n",
    "\t\tprint(\"Error: Could not read frame.\")\n",
    "\t\tbreak\n",
    "\t\n",
    "\tframe = cv2.flip(frame, 1)\n",
    "\tframe_rgb = cv2.cvtColor(frame, cv2.COLOR_BGR2RGB)\n",
    "\t\n",
    "\tresults = hands.process(frame_rgb)\n",
    "\n",
    "\tif results.multi_hand_landmarks:\n",
    "\t\ttotal_fingers = 0\n",
    "\t\tfor idx, hand_landmarks in enumerate(results.multi_hand_landmarks):\n",
    "\t\t\thandedness = results.multi_handedness[idx].classification[0].label\n",
    "\t\t\tcount = detect_finger_number(hand_landmarks, handedness)\n",
    "\t\t\ttotal_fingers += count\n",
    "\t\t\t\n",
    "\t\t\tmp_drawing.draw_landmarks(\n",
    "\t\t\t\tframe,\n",
    "\t\t\t\thand_landmarks,\n",
    "\t\t\t\tmp_hands.HAND_CONNECTIONS,\n",
    "\t\t\t\tmp_drawing_styles.get_default_hand_landmarks_style(),\n",
    "\t\t\t\tmp_drawing_styles.get_default_hand_connections_style()\n",
    "\t\t\t)\n",
    "\t\t\n",
    "\t\t# Batasi total jari yang terdeteksi antara 0-10\n",
    "\t\ttotal_fingers = min(10, total_fingers)\n",
    "\t\t\n",
    "\t\t# Tampilkan total jari dari kedua tangan\n",
    "\t\tcv2.putText(\n",
    "\t\t\tframe, \n",
    "\t\t\tstr(total_fingers), \n",
    "\t\t\t(50, 150), \n",
    "\t\t\tcv2.FONT_HERSHEY_SIMPLEX, \n",
    "\t\t\t4,  # ukuran font lebih besar\n",
    "\t\t\t(0, 255, 0),  # warna hijau\n",
    "\t\t\t4  # ketebalan\n",
    "\t\t)\n",
    "\t\n",
    "\tcv2.imshow('Hand Number Detection', frame)\n",
    "\t\n",
    "\tif cv2.waitKey(1) & 0xFF == ord('q'):\n",
    "\t\tbreak\n",
    "\n",
    "cap.release()\n",
    "cv2.destroyAllWindows()\n"
   ]
  }
 ],
 "metadata": {
  "kernelspec": {
   "display_name": "tubes",
   "language": "python",
   "name": "python3"
  },
  "language_info": {
   "codemirror_mode": {
    "name": "ipython",
    "version": 3
   },
   "file_extension": ".py",
   "mimetype": "text/x-python",
   "name": "python",
   "nbconvert_exporter": "python",
   "pygments_lexer": "ipython3",
   "version": "3.10.16"
  }
 },
 "nbformat": 4,
 "nbformat_minor": 5
}
